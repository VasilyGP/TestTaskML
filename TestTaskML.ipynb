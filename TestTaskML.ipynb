{
 "cells": [
  {
   "cell_type": "code",
   "execution_count": 52,
   "metadata": {},
   "outputs": [],
   "source": [
    "#Путь к файлу\n",
    "pathToFile = 'E:\\\\загрузки'\n",
    "fileName = 'predict.csv'"
   ]
  },
  {
   "cell_type": "code",
   "execution_count": 53,
   "metadata": {},
   "outputs": [],
   "source": [
    "import os\n",
    "import numpy as np\n",
    "import pandas as pd\n",
    "from sklearn.model_selection import train_test_split\n",
    "from sklearn.linear_model import LinearRegression as lr\n",
    "from sklearn.metrics import r2_score\n",
    "from sklearn.ensemble import RandomForestRegressor\n",
    "from sklearn.metrics import mean_squared_error"
   ]
  },
  {
   "cell_type": "code",
   "execution_count": 54,
   "metadata": {},
   "outputs": [],
   "source": [
    "#Чтение данных в формате csv\n",
    "os.chdir(pathToFile)\n",
    "data = pd.read_csv(fileName, delimiter = ',', header=0)"
   ]
  },
  {
   "cell_type": "code",
   "execution_count": 55,
   "metadata": {},
   "outputs": [],
   "source": [
    "#Первичная обработка данных\n",
    "\n",
    "#Проверка на пустые столбцы\n",
    "notNullColumns = [col for col in data.columns if data.loc[:, col].notna().any()]\n",
    "\n",
    "#Оставляем только столбцы с данными\n",
    "data = data[notNullColumns]\n",
    "\n",
    "#Убираем пустые значения в строках\n",
    "data = data.dropna()\n",
    "\n",
    "#Получаем корреляционную матрицу для проверки избыточности информации\n",
    "corrMatix = data.drop(['c5'], axis=1).corr()\n",
    "\n",
    "#Так как матрица симметрична оставляем только половину для удобства работы\n",
    "j=0\n",
    "for col in corrMatix.columns:\n",
    "    corrMatix[col][j:] = 0\n",
    "    j += 1\n",
    "\n",
    "#Получаем имена столбцов, корреляция которых выше 0,9\n",
    "corrColumns = [col for col in corrMatix.columns if len(corrMatix.loc[corrMatix[col] > 0.9, col]) > 0]\n",
    "\n",
    "#Удаляем зависимые столбцы\n",
    "data = data.drop(corrColumns, axis=1)"
   ]
  },
  {
   "cell_type": "code",
   "execution_count": 56,
   "metadata": {},
   "outputs": [],
   "source": [
    "#Разделение выборки на предикторы (predictors) и отклик (response)\n",
    "resp = data['c5']\n",
    "pred = data.drop(['c5'], axis=1)\n",
    "\n",
    "#Определяем число для разбиение выборки 30 на 70\n",
    "num = int(len(data)*0.3)\n",
    "\n",
    "#Разделение выборки на тестовую (test) и обучающую (training)\n",
    "predTest,predTrn = pred[:num], pred[num:]\n",
    "respTest,respTrn = resp[:num], resp[num:]"
   ]
  },
  {
   "cell_type": "code",
   "execution_count": 57,
   "metadata": {},
   "outputs": [],
   "source": [
    "#Создаем Random Forest Model с 1000 деревьев решений \n",
    "rf = RandomForestRegressor(n_estimators = 1000, random_state = 100)\n",
    "\n",
    "#Обучаем Random Forest model на тренировочных данных\n",
    "rf.fit(predTrn, respTrn);\n",
    "\n",
    "#Получаем отклик от тестовых данных\n",
    "predictions = rf.predict(predTest)"
   ]
  },
  {
   "cell_type": "code",
   "execution_count": 58,
   "metadata": {},
   "outputs": [
    {
     "name": "stdout",
     "output_type": "stream",
     "text": [
      "R^2:  0.23\n",
      "MSE:  48.44\n"
     ]
    }
   ],
   "source": [
    "#Вычисляем значение R^2\n",
    "r2 = r2_score(respTest,predictions)\n",
    "print('R^2: ', round(r2, 2))\n",
    "\n",
    "#Вычисляем mean squared error\n",
    "mse = mean_squared_error(respTest,predictions)\n",
    "print('MSE: ', round(mse, 2))\n"
   ]
  },
  {
   "cell_type": "code",
   "execution_count": 63,
   "metadata": {},
   "outputs": [
    {
     "ename": "ModuleNotFoundError",
     "evalue": "No module named 'xgboost'",
     "output_type": "error",
     "traceback": [
      "\u001b[1;31m---------------------------------------------------------------------------\u001b[0m",
      "\u001b[1;31mModuleNotFoundError\u001b[0m                       Traceback (most recent call last)",
      "\u001b[1;32m<ipython-input-63-5a4448781b45>\u001b[0m in \u001b[0;36m<module>\u001b[1;34m()\u001b[0m\n\u001b[1;32m----> 1\u001b[1;33m \u001b[1;32mimport\u001b[0m \u001b[0mxgboost\u001b[0m\u001b[1;33m\u001b[0m\u001b[0m\n\u001b[0m\u001b[0;32m      2\u001b[0m \u001b[0mmodel\u001b[0m \u001b[1;33m=\u001b[0m \u001b[0mxgboost\u001b[0m\u001b[1;33m.\u001b[0m\u001b[0mXGBClassifier\u001b[0m\u001b[1;33m(\u001b[0m\u001b[1;33m)\u001b[0m\u001b[1;33m\u001b[0m\u001b[0m\n\u001b[0;32m      3\u001b[0m \u001b[0mmodel\u001b[0m\u001b[1;33m.\u001b[0m\u001b[0mfit\u001b[0m\u001b[1;33m(\u001b[0m\u001b[0mpredTrn\u001b[0m\u001b[1;33m,\u001b[0m \u001b[0mrespTrn\u001b[0m\u001b[1;33m)\u001b[0m\u001b[1;33m\u001b[0m\u001b[0m\n\u001b[0;32m      4\u001b[0m \u001b[0my_pred\u001b[0m \u001b[1;33m=\u001b[0m \u001b[0mmodel\u001b[0m\u001b[1;33m.\u001b[0m\u001b[0mpredict\u001b[0m\u001b[1;33m(\u001b[0m\u001b[0mpredTest\u001b[0m\u001b[1;33m)\u001b[0m\u001b[1;33m\u001b[0m\u001b[0m\n\u001b[0;32m      5\u001b[0m \u001b[1;33m\u001b[0m\u001b[0m\n",
      "\u001b[1;31mModuleNotFoundError\u001b[0m: No module named 'xgboost'"
     ]
    }
   ],
   "source": [
    "import xgboost\n",
    "model = xgboost.XGBClassifier()\n",
    "model.fit(predTrn, respTrn)\n",
    "y_pred = model.predict(predTest)\n",
    "\n",
    "r2 = r2_score(respTest,y_pred)\n",
    "print('R^2: ', round(r2, 2))"
   ]
  },
  {
   "cell_type": "markdown",
   "metadata": {},
   "source": []
  }
 ],
 "metadata": {
  "kernelspec": {
   "display_name": "Python 3",
   "language": "python",
   "name": "python3"
  },
  "language_info": {
   "codemirror_mode": {
    "name": "ipython",
    "version": 3
   },
   "file_extension": ".py",
   "mimetype": "text/x-python",
   "name": "python",
   "nbconvert_exporter": "python",
   "pygments_lexer": "ipython3",
   "version": "3.6.5"
  }
 },
 "nbformat": 4,
 "nbformat_minor": 2
}
