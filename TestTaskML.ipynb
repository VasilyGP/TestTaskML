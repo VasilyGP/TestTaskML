{
 "cells": [
  {
   "cell_type": "code",
   "execution_count": 62,
   "metadata": {},
   "outputs": [],
   "source": [
    "#Путь к файлу\n",
    "pathToFile = 'E:\\\\загрузки'\n",
    "fileName = 'predict.csv'"
   ]
  },
  {
   "cell_type": "code",
   "execution_count": 63,
   "metadata": {},
   "outputs": [],
   "source": [
    "import os\n",
    "import numpy as np\n",
    "import pandas as pd\n",
    "import xgboost as xgb\n",
    "from sklearn.metrics import r2_score\n",
    "from sklearn.metrics import mean_squared_error\n",
    "\n",
    "from sklearn.model_selection import train_test_split\n",
    "from sklearn.linear_model import LinearRegression as lr\n",
    "from sklearn.ensemble import RandomForestRegressor"
   ]
  },
  {
   "cell_type": "code",
   "execution_count": 64,
   "metadata": {},
   "outputs": [],
   "source": [
    "#Чтение данных в формате csv\n",
    "os.chdir(pathToFile)\n",
    "data = pd.read_csv(fileName, delimiter = ',', header=0)"
   ]
  },
  {
   "cell_type": "code",
   "execution_count": 65,
   "metadata": {},
   "outputs": [],
   "source": [
    "#Первичная обработка данных\n",
    "\n",
    "#Проверка на пустые столбцы\n",
    "notNullColumns = [col for col in data.columns if data.loc[:, col].notna().any()]\n",
    "\n",
    "#Оставляем только столбцы с данными\n",
    "data = data[notNullColumns]\n",
    "\n",
    "#Убираем пустые значения в строках\n",
    "data = data.dropna()\n",
    "\n",
    "#Получаем корреляционную матрицу для проверки избыточности информации\n",
    "corrMatix = data.drop(['c5'], axis=1).corr()\n",
    "\n",
    "#Так как матрица симметрична оставляем только половину для удобства работы\n",
    "j=0\n",
    "for col in corrMatix.columns:\n",
    "    corrMatix[col][j:] = 0\n",
    "    j += 1\n",
    "\n",
    "#Получаем имена столбцов, корреляция которых выше 0,9\n",
    "corrColumns = [col for col in corrMatix.columns if len(corrMatix.loc[corrMatix[col] > 0.9, col]) > 0]\n",
    "\n",
    "#Удаляем зависимые столбцы\n",
    "data = data.drop(corrColumns, axis=1)"
   ]
  },
  {
   "cell_type": "code",
   "execution_count": 66,
   "metadata": {},
   "outputs": [],
   "source": [
    "#Разделение выборки на предикторы (predictors) и отклик (response)\n",
    "resp = data['c5']\n",
    "pred = data.drop(['c5'], axis=1)\n",
    "\n",
    "#Определяем число для разбиение выборки 30 на 70\n",
    "num = int(len(data)*0.3)\n",
    "\n",
    "#Разделение выборки на тестовую (test) и обучающую (training)\n",
    "predTest,predTrn = pred[:num], pred[num:]\n",
    "respTest,respTrn = resp[:num], resp[num:]"
   ]
  },
  {
   "cell_type": "code",
   "execution_count": 67,
   "metadata": {},
   "outputs": [],
   "source": [
    "#Переводим данные в матричный вид\n",
    "d_train = xgb.DMatrix(predTrn, label=respTrn)\n",
    "d_test = xgb.DMatrix(predTest, label=respTest)"
   ]
  },
  {
   "cell_type": "code",
   "execution_count": 68,
   "metadata": {},
   "outputs": [],
   "source": [
    "#Подбираем параметры модели\n",
    "xgb_params = {\"max_depth\": 10, \"eta\": 0.5}"
   ]
  },
  {
   "cell_type": "code",
   "execution_count": 69,
   "metadata": {},
   "outputs": [],
   "source": [
    "#Обучение модели\n",
    "model = xgb.train(params=xgb_params, dtrain=d_train, num_boost_round=10)"
   ]
  },
  {
   "cell_type": "code",
   "execution_count": 70,
   "metadata": {},
   "outputs": [],
   "source": [
    "#Обучаем gradient boosting model на тренировочных данных\n",
    "predictions = model.predict(d_test)"
   ]
  },
  {
   "cell_type": "code",
   "execution_count": 71,
   "metadata": {},
   "outputs": [
    {
     "name": "stdout",
     "output_type": "stream",
     "text": [
      "R^2:  0.601\n",
      "MSE:  25.13\n"
     ]
    }
   ],
   "source": [
    "#Вычисляем значение R^2\n",
    "r2 = r2_score(respTest,predictions)\n",
    "print('R^2: ', round(r2, 3))\n",
    "\n",
    "#Вычисляем mean squared error\n",
    "mse = mean_squared_error(respTest,predictions)\n",
    "print('MSE: ', round(mse, 2))"
   ]
  }
 ],
 "metadata": {
  "kernelspec": {
   "display_name": "Python 3",
   "language": "python",
   "name": "python3"
  },
  "language_info": {
   "codemirror_mode": {
    "name": "ipython",
    "version": 3
   },
   "file_extension": ".py",
   "mimetype": "text/x-python",
   "name": "python",
   "nbconvert_exporter": "python",
   "pygments_lexer": "ipython3",
   "version": "3.6.5"
  }
 },
 "nbformat": 4,
 "nbformat_minor": 2
}
